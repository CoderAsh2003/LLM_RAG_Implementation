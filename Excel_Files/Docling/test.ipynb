{
 "cells": [
  {
   "cell_type": "code",
   "execution_count": 1,
   "metadata": {},
   "outputs": [],
   "source": [
    "from langchain_docling import DoclingLoader\n",
    "from langchain_ollama import ChatOllama,OllamaEmbeddings\n",
    "from langchain_huggingface.embeddings import HuggingFaceEmbeddings\n",
    "from langchain_huggingface import HuggingFaceEndpoint\n",
    "from pinecone import Pinecone, ServerlessSpec\n",
    "from langchain.text_splitter import RecursiveCharacterTextSplitter\n",
    "from dotenv import load_dotenv\n",
    "import torch"
   ]
  },
  {
   "cell_type": "code",
   "execution_count": 2,
   "metadata": {},
   "outputs": [
    {
     "name": "stderr",
     "output_type": "stream",
     "text": [
      "Token indices sequence length is longer than the specified maximum sequence length for this model (566 > 512). Running this sequence through the model will result in indexing errors\n"
     ]
    },
    {
     "data": {
      "text/plain": [
       "[Document(metadata={'source': 'new_salary.xlsx', 'dl_meta': {'schema_name': 'docling_core.transforms.chunker.DocMeta', 'version': '1.0.0', 'doc_items': [{'self_ref': '#/tables/0', 'parent': {'$ref': '#/groups/0'}, 'children': [], 'content_layer': 'body', 'label': 'table', 'prov': []}], 'origin': {'mimetype': 'application/vnd.openxmlformats-officedocument.spreadsheetml.sheet', 'binary_hash': 14294445640614508023, 'filename': 'new_salary.xlsx'}}}, page_content='Last Name, 1 = First Name. Last Name, 2 = Status. Last Name, 3 = Salary. Williams, 1 = Mary. Williams, 2 = Full Time. Williams, 3 = 35000. Brown, 1 = Robert. Brown, 2 = Full Time. Brown, 3 = 32000. Wilson, 1 = Elizabeth. Wilson, 2 = Part Time. Wilson, 3 = 12000. Moore, 1 = Jennifer. Moore, 2 = Full Time. Moore, 3 = 41000. Brown, 1 = Charles. Brown, 2 = Full Time. Brown, 3 = 39000. Price, 1 = Lisa. Price, 2 = Part Time. Price, 3 = 14000. Wood, 1 = Daniel. Wood, 2 = Part Time. Wood, 3 = 13750. Coleman, 1 = Donald. Coleman, 2 = Full Time. Coleman, 3 = 37500. Perry, 1 = George. Perry, 2 = Part Time. Perry, 3 = 12050. Steele, 1 = Donna. Steele, 2 = Full Time. Steele, 3 = 36750. Schultz, 1 = Carol. Schultz, 2 = Full Time. Schultz, 3 = 38050. Munoz, 1 = Ruth. Munoz, 2 = Part Time. Munoz, 3 = 11000. Chandler, 1 = Jason. Chandler, 2 = Full Time. Chandler, 3 = 29000. Small, 1 = Matthew. Small, 2 = Full Time. Small, 3 = 45500. Hensley, 1 = Jessica. Hensley, 2 = Full Time. Hensley, 3 = 52000. Brown, 1 = Gary. Brown, 2 = Part Time. Brown, 3 = 8000. Grimes, 1 = Jose. Grimes, 2 = Part Time. Grimes, 3 = 17000. Baxter, 1 = Brenda. Baxter, 2 = Full Time. Baxter, 3 = 36000. Morin, 1 = Frank. Morin, 2 = Full Time. Morin, 3 = 36500. Tillman, 1 = Kathleen. Tillman, 2 = Part Time. Tillman, 3 = 9750. Huber, 1 = Joshua. Huber, 2 = Full Time. Huber, 3 = 31750. Boyle, 1 = Debra. Boyle, 2 = Full Time. Boyle, 3 = 38050. Buckner, 1 = Jerry. Buckner, 2 = Full Time. Buckner, 3 = 37500. Knowles, 1 = Aaron. Knowles, 2 = Part Time.'),\n",
       " Document(metadata={'source': 'new_salary.xlsx', 'dl_meta': {'schema_name': 'docling_core.transforms.chunker.DocMeta', 'version': '1.0.0', 'doc_items': [{'self_ref': '#/tables/0', 'parent': {'$ref': '#/groups/0'}, 'children': [], 'content_layer': 'body', 'label': 'table', 'prov': []}], 'origin': {'mimetype': 'application/vnd.openxmlformats-officedocument.spreadsheetml.sheet', 'binary_hash': 14294445640614508023, 'filename': 'new_salary.xlsx'}}}, page_content='Knowles, 3 = 10050. Velazquez, 1 = Carlos. Velazquez, 2 = Part Time. Velazquez, 3 = 9075. Vang, 1 = Marilyn. Vang, 2 = Full Time. Vang, 3 = 29750'),\n",
       " Document(metadata={'source': 'new_salary.xlsx', 'dl_meta': {'schema_name': 'docling_core.transforms.chunker.DocMeta', 'version': '1.0.0', 'doc_items': [{'self_ref': '#/tables/1', 'parent': {'$ref': '#/groups/0'}, 'children': [], 'content_layer': 'body', 'label': 'table', 'prov': []}], 'origin': {'mimetype': 'application/vnd.openxmlformats-officedocument.spreadsheetml.sheet', 'binary_hash': 14294445640614508023, 'filename': 'new_salary.xlsx'}}}, page_content='0, 1 = Williams. 0, 2 = Mary. 0, 3 = Full Time. 0, 4 = 35000. 1, 1 = Brown. 1, 2 = Robert. 1, 3 = Full Time. 1, 4 = 32000. 2, 1 = Wilson. 2, 2 = Elizabeth. 2, 3 = Part Time. 2, 4 = 12000. 3, 1 = Moore. 3, 2 = Jennifer. 3, 3 = Full Time. 3, 4 = 41000. 4, 1 = Brown. 4, 2 = Charles. 4, 3 = Full Time. 4, 4 = 39000. 5, 1 = Price. 5, 2 = Lisa. 5, 3 = Part Time. 5, 4 = 14000. 6, 1 = Wood. 6, 2 = Daniel. 6, 3 = Part Time. 6, 4 = 13750. 7, 1 = Coleman. 7, 2 = Donald. 7, 3 = Full Time. 7, 4 = 37500. 8, 1 = Perry. 8, 2 = George. 8, 3 = Part Time. 8, 4 = 12050. 9, 1 = Steele. 9, 2 = Donna. 9, 3 = Full Time. 9, 4 = 36750. 10, 1 = Schultz. 10, 2 = Carol. 10, 3 = Full Time. 10, 4 = 38050. 11, 1 = Munoz. 11, 2 = Ruth. 11, 3 = Part Time. 11, 4 = 11000. 12, 1 = Chandler. 12, 2 = Jason. 12, 3 = Full Time. 12, 4 = 29000. 13, 1 = Small. 13, 2 = Matthew. 13, 3 = Full Time. 13, 4 = 45500. 14, 1 = Hensley. 14, 2 = Jessica. 14, 3 = Full Time. 14, 4 = 52000. 15, 1 = Brown. 15, 2 = Gary. 15, 3 = Part Time. 15, 4 = 8000. 16, 1 = Grimes. 16, 2 = Jose. 16, 3 = Part Time. 16, 4 = 17000. 17, 1 = Baxter. 17, 2 = Brenda. 17, 3 = Full Time. 17, 4 = 36000. 18, 1 = Morin. 18, 2 = Frank. 18, 3 = Full Time. 18, 4 = 36500. 19, 1 = Tillman. 19, 2 = Kathleen. 19,'),\n",
       " Document(metadata={'source': 'new_salary.xlsx', 'dl_meta': {'schema_name': 'docling_core.transforms.chunker.DocMeta', 'version': '1.0.0', 'doc_items': [{'self_ref': '#/tables/1', 'parent': {'$ref': '#/groups/0'}, 'children': [], 'content_layer': 'body', 'label': 'table', 'prov': []}], 'origin': {'mimetype': 'application/vnd.openxmlformats-officedocument.spreadsheetml.sheet', 'binary_hash': 14294445640614508023, 'filename': 'new_salary.xlsx'}}}, page_content='3 = Part Time. 19, 4 = 9750. 20, 1 = Huber. 20, 2 = Joshua. 20, 3 = Full Time. 20, 4 = 31750. 21, 1 = Boyle. 21, 2 = Debra. 21, 3 = Full Time. 21, 4 = 38050. 22, 1 = Buckner. 22, 2 = Jerry. 22, 3 = Full Time. 22, 4 = 37500. 23, 1 = Knowles. 23, 2 = Aaron. 23, 3 = Part Time. 23, 4 = 10050. 24, 1 = Velazquez. 24, 2 = Carlos. 24, 3 = Part Time. 24, 4 = 9075. 25, 1 = Vang. 25, 2 = Marilyn. 25, 3 = Full Time. 25, 4 = 29750')]"
      ]
     },
     "execution_count": 2,
     "metadata": {},
     "output_type": "execute_result"
    }
   ],
   "source": [
    "excel_file = 'new_salary.xlsx'\n",
    "loader = DoclingLoader(excel_file)\n",
    "docs = loader.load()\n",
    "docs[:5]"
   ]
  },
  {
   "cell_type": "code",
   "execution_count": 3,
   "metadata": {},
   "outputs": [],
   "source": [
    "#Using Recursve Text Splitting\n",
    " \n",
    "text_splitter = RecursiveCharacterTextSplitter(chunk_size = 1000,chunk_overlap = 100)\n",
    "split_docs = text_splitter.split_documents(docs)"
   ]
  },
  {
   "cell_type": "code",
   "execution_count": 4,
   "metadata": {},
   "outputs": [
    {
     "data": {
      "application/vnd.jupyter.widget-view+json": {
       "model_id": "c224bfa6cde4475ab6121857c84e2ded",
       "version_major": 2,
       "version_minor": 0
      },
      "text/plain": [
       "VBox(children=(HTML(value='<center> <img\\nsrc=https://huggingface.co/front/assets/huggingface_logo-noborder.sv…"
      ]
     },
     "metadata": {},
     "output_type": "display_data"
    }
   ],
   "source": [
    "from huggingface_hub import login\n",
    "login()"
   ]
  },
  {
   "cell_type": "code",
   "execution_count": 5,
   "metadata": {},
   "outputs": [
    {
     "name": "stdout",
     "output_type": "stream",
     "text": [
      "Microsoft Windows [Version 10.0.26100.3194]\n",
      "(c) Microsoft Corporation. All rights reserved.\n",
      "\n",
      "(langchain-template) c:\\Users\\Ashton Internship\\Desktop\\Internship_Python\\LLM For Excel Files\\Using UnstructuredExcelLoader\\Excel_Files\\Docling>pip install einops\n",
      "Requirement already satisfied: einops in c:\\users\\ashton internship\\desktop\\harish neel\\langchain-template\\lib\\site-packages (0.8.1)\n",
      "\n",
      "(langchain-template) c:\\Users\\Ashton Internship\\Desktop\\Internship_Python\\LLM For Excel Files\\Using UnstructuredExcelLoader\\Excel_Files\\Docling>"
     ]
    }
   ],
   "source": [
    "%%cmd\n",
    "pip install einops"
   ]
  },
  {
   "cell_type": "code",
   "execution_count": null,
   "metadata": {},
   "outputs": [],
   "source": [
    "#Create embeddings for the excel file \n",
    "# embeddings = hf_embeddings.embed_documents(split_docs)"
   ]
  },
  {
   "cell_type": "code",
   "execution_count": 5,
   "metadata": {},
   "outputs": [
    {
     "data": {
      "text/plain": [
       "True"
      ]
     },
     "execution_count": 5,
     "metadata": {},
     "output_type": "execute_result"
    }
   ],
   "source": [
    "load_dotenv()"
   ]
  },
  {
   "cell_type": "code",
   "execution_count": null,
   "metadata": {},
   "outputs": [
    {
     "name": "stdout",
     "output_type": "stream",
     "text": [
      "pcsk_exEPR_PuLKFtv2FDcw3Waf9ywQTH9d1GWtjwvXhamMZmhP7YNLSL7tdUn64XTtEXzUSPd\n",
      "Pinecone initialized successfully\n"
     ]
    }
   ],
   "source": [
    "#Pinecone Database Connection\n",
    "import os\n",
    "PINECONE_KEY = os.getenv(\"PINECONE_API_KEY\")\n",
    "pc = Pinecone(api_key = PINECONE_KEY)\n",
    "print(\"Pinecone initialized successfully\")"
   ]
  },
  {
   "cell_type": "code",
   "execution_count": 10,
   "metadata": {},
   "outputs": [],
   "source": [
    "import time\n",
    "index_name = \"salary-db\"  # change if desired\n",
    "\n",
    "existing_indexes = [index_info[\"name\"] for index_info in pc.list_indexes()]\n",
    "\n",
    "if index_name not in existing_indexes:\n",
    "    pc.create_index(\n",
    "        name=index_name,\n",
    "        dimension=1024,\n",
    "        metric=\"cosine\",\n",
    "        spec=ServerlessSpec(cloud=\"aws\", region=\"us-east-1\"),\n",
    "    )\n",
    "    while not pc.describe_index(index_name).status[\"ready\"]:\n",
    "        time.sleep(1)\n",
    "\n",
    "index = pc.Index(index_name)\n",
    "# pc.create_index(name = index_name,dimension= ) \n"
   ]
  },
  {
   "cell_type": "code",
   "execution_count": null,
   "metadata": {},
   "outputs": [],
   "source": [
    "#Qwen2-7B seems to be the best performing embedding model according to the MTEB(Massive Text Embedding Benchmark), it ranks no 1 in embedding of English and Chinese texts at the moment.\n",
    "\n",
    "model_name = \"Linq-AI-Research/Linq-Embed-Mistral\"\n",
    "model_kwargs = {'device': 'cuda',\"trust_remote_code\":True}\n",
    "encode_kwargs = {'normalize_embeddings': False}\n",
    "hf_embeddings = HuggingFaceEmbeddings(\n",
    "    model_name=model_name,\n",
    "    model_kwargs=model_kwargs,\n",
    "    encode_kwargs=encode_kwargs,\n",
    "    \n",
    ")\n"
   ]
  },
  {
   "cell_type": "code",
   "execution_count": null,
   "metadata": {},
   "outputs": [],
   "source": [
    "#Storing in Pinecone Vector Store\n",
    "from langchain_pinecone import PineconeVectorStore\n",
    "\n",
    "vector_store = PineconeVectorStore(index=index_name, embedding=hf_embeddings)"
   ]
  }
 ],
 "metadata": {
  "kernelspec": {
   "display_name": "langchain-template",
   "language": "python",
   "name": "python3"
  },
  "language_info": {
   "codemirror_mode": {
    "name": "ipython",
    "version": 3
   },
   "file_extension": ".py",
   "mimetype": "text/x-python",
   "name": "python",
   "nbconvert_exporter": "python",
   "pygments_lexer": "ipython3",
   "version": "3.11.0"
  }
 },
 "nbformat": 4,
 "nbformat_minor": 2
}
